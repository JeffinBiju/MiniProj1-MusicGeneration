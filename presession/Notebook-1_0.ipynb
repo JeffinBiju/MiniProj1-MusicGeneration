{
 "cells": [
  {
   "cell_type": "markdown",
   "metadata": {
    "colab_type": "text",
    "id": "Na6jgUVAXzxe"
   },
   "source": [
    "# Welcome to the First Notebook for the Mini Project"
   ]
  },
  {
   "cell_type": "markdown",
   "metadata": {
    "colab_type": "text",
    "id": "Z-PHoANmXUwT"
   },
   "source": [
    "# The Print Function"
   ]
  },
  {
   "cell_type": "markdown",
   "metadata": {
    "colab_type": "text",
    "id": "I7--4DICXUwW"
   },
   "source": [
    "#### To start off with we will first see how we can see the contents which are stored in a variable\n",
    "\n",
    "Let us define a variable 'players' which stores the number of players that are present in a game."
   ]
  },
  {
   "cell_type": "code",
   "execution_count": 0,
   "metadata": {
    "colab": {},
    "colab_type": "code",
    "id": "AsbqkNTrXUwZ"
   },
   "outputs": [],
   "source": [
    "players = 10"
   ]
  },
  {
   "cell_type": "markdown",
   "metadata": {
    "colab_type": "text",
    "id": "K6QxMAk1XUwp"
   },
   "source": [
    "The contents of the variable 'players' can be shown by using the print function\n",
    "\n",
    "In Python the print function has the syntax as shown:"
   ]
  },
  {
   "cell_type": "code",
   "execution_count": 2,
   "metadata": {
    "colab": {
     "base_uri": "https://localhost:8080/",
     "height": 34
    },
    "colab_type": "code",
    "executionInfo": {
     "elapsed": 2309,
     "status": "ok",
     "timestamp": 1588774963354,
     "user": {
      "displayName": "Aryan Pandey na19b030",
      "photoUrl": "",
      "userId": "15485126361924099412"
     },
     "user_tz": -330
    },
    "id": "ZPYZZWuxXUws",
    "outputId": "d2155a1f-1ea9-429f-eca8-9bfcdfb01a5b"
   },
   "outputs": [
    {
     "name": "stdout",
     "output_type": "stream",
     "text": [
      "10\n"
     ]
    }
   ],
   "source": [
    "print(players)"
   ]
  },
  {
   "cell_type": "markdown",
   "metadata": {
    "colab_type": "text",
    "id": "6WpRhXQUXUw2"
   },
   "source": [
    "As you can see this gives the output of 10 which is what we had stored in the varible 'players"
   ]
  },
  {
   "cell_type": "markdown",
   "metadata": {
    "colab_type": "text",
    "id": "U0ll3exAXUw4"
   },
   "source": [
    "# Conditional- Statements"
   ]
  },
  {
   "cell_type": "markdown",
   "metadata": {
    "colab_type": "text",
    "id": "ShcQqYs4XUw6"
   },
   "source": [
    "# If-Else conditionals"
   ]
  },
  {
   "cell_type": "markdown",
   "metadata": {
    "colab_type": "text",
    "id": "U__OzjfNXUw8"
   },
   "source": [
    "Let us first define a few variables"
   ]
  },
  {
   "cell_type": "code",
   "execution_count": 0,
   "metadata": {
    "colab": {},
    "colab_type": "code",
    "id": "5_GiUj9tXUw9"
   },
   "outputs": [],
   "source": [
    "a = 10\n",
    "b = 5\n",
    "c = 15"
   ]
  },
  {
   "cell_type": "markdown",
   "metadata": {
    "colab_type": "text",
    "id": "ESnFPYX1XUxF"
   },
   "source": [
    "The following code will show you how to use an if-else conditional\n",
    "\n",
    "In the following code we will be using the if-else to see which is the biggest number out of a, b and c\n",
    "\n",
    "Surely this isn't the most efficient way of doing this problem but the idea is to demonstrate the use of the if-else conditional"
   ]
  },
  {
   "cell_type": "code",
   "execution_count": 4,
   "metadata": {
    "colab": {
     "base_uri": "https://localhost:8080/",
     "height": 34
    },
    "colab_type": "code",
    "executionInfo": {
     "elapsed": 2293,
     "status": "ok",
     "timestamp": 1588774963357,
     "user": {
      "displayName": "Aryan Pandey na19b030",
      "photoUrl": "",
      "userId": "15485126361924099412"
     },
     "user_tz": -330
    },
    "id": "yq5zqnydXUxG",
    "outputId": "30ade0f2-3168-438b-8357-243e475fc3de"
   },
   "outputs": [
    {
     "name": "stdout",
     "output_type": "stream",
     "text": [
      "c is the largest\n"
     ]
    }
   ],
   "source": [
    "if a<b :                             # Don't forget the ':' here\n",
    "    if b<c:\n",
    "        print('c is the largest')\n",
    "    elif b>c:                        # elif is the syntax for \"Else-if\" in python\n",
    "        print('b is the largest')\n",
    "    else:\n",
    "        print('b and c are equal and they are the largest')\n",
    "\n",
    "elif a>b:\n",
    "    if a<c:\n",
    "        print('c is the largest')\n",
    "    elif a>c:                        \n",
    "        print('a is the largest')\n",
    "    else:\n",
    "        print('a and c are equal and they are the largest')\n",
    "\n",
    "elif a==b:                   # In python we use a single'=' for assigning a number and '==' for making a comparison\n",
    "    if a<c:\n",
    "        print('c is the largest')\n",
    "    elif a>c:                        \n",
    "        print('a and b are the largest')\n",
    "    else:\n",
    "        print('a, b and c are equal')"
   ]
  },
  {
   "cell_type": "markdown",
   "metadata": {
    "colab_type": "text",
    "id": "QMQiXrllXUxR"
   },
   "source": [
    "#### One thing that is worth noticing is that in python indentation matters\n",
    "\n",
    "If we don't do that then Python will be very confused as to which elif/else falls under which if"
   ]
  },
  {
   "cell_type": "markdown",
   "metadata": {
    "colab_type": "text",
    "id": "ynUj9ROBXUxS"
   },
   "source": [
    "# Looping Statements"
   ]
  },
  {
   "cell_type": "markdown",
   "metadata": {
    "colab_type": "text",
    "id": "xE-_QQsIXUxU"
   },
   "source": [
    "# For-Loops"
   ]
  },
  {
   "cell_type": "markdown",
   "metadata": {
    "colab_type": "text",
    "id": "WikAfYwgXUxV"
   },
   "source": [
    "For loops are used to help us go through all the elements of a list, tuple, dictionary or other data structures\n",
    "\n",
    "If you don't understand any of those last few terms don't worry about it, we'll explain it to you a later on in this tutorial"
   ]
  },
  {
   "cell_type": "markdown",
   "metadata": {
    "colab_type": "text",
    "id": "6BsfkQnOXUxW"
   },
   "source": [
    "The following example will help you understand how a for loop works and how it makes code simpler"
   ]
  },
  {
   "cell_type": "code",
   "execution_count": 0,
   "metadata": {
    "colab": {},
    "colab_type": "code",
    "id": "B82QAYbwXUxX"
   },
   "outputs": [],
   "source": [
    "#Let us start by initialising a list\n",
    "#Again if you don't know what a list is don't worry about it we will explain it to you soon enough\n",
    "\n",
    "digits = [1,2,3,4,5,6,7,8,9,0]"
   ]
  },
  {
   "cell_type": "markdown",
   "metadata": {
    "colab_type": "text",
    "id": "CT0IDdsvXUxd"
   },
   "source": [
    "If we want to print all the elements of the digits list then we can either do it manually or we can use a for loop"
   ]
  },
  {
   "cell_type": "code",
   "execution_count": 6,
   "metadata": {
    "colab": {
     "base_uri": "https://localhost:8080/",
     "height": 191
    },
    "colab_type": "code",
    "executionInfo": {
     "elapsed": 2278,
     "status": "ok",
     "timestamp": 1588774963358,
     "user": {
      "displayName": "Aryan Pandey na19b030",
      "photoUrl": "",
      "userId": "15485126361924099412"
     },
     "user_tz": -330
    },
    "id": "VAbQjFbzXUxe",
    "outputId": "c7247965-4f32-48c6-bf1e-19fc74ab4094"
   },
   "outputs": [
    {
     "name": "stdout",
     "output_type": "stream",
     "text": [
      "1\n",
      "2\n",
      "3\n",
      "4\n",
      "5\n",
      "6\n",
      "7\n",
      "8\n",
      "9\n",
      "0\n"
     ]
    }
   ],
   "source": [
    "# Method 1 - Doing it Manually\n",
    "print(digits[0])\n",
    "print(digits[1])\n",
    "print(digits[2])\n",
    "print(digits[3])\n",
    "print(digits[4])\n",
    "print(digits[5])\n",
    "print(digits[6])\n",
    "print(digits[7])\n",
    "print(digits[8])\n",
    "print(digits[9])"
   ]
  },
  {
   "cell_type": "code",
   "execution_count": 7,
   "metadata": {
    "colab": {
     "base_uri": "https://localhost:8080/",
     "height": 191
    },
    "colab_type": "code",
    "executionInfo": {
     "elapsed": 2268,
     "status": "ok",
     "timestamp": 1588774963359,
     "user": {
      "displayName": "Aryan Pandey na19b030",
      "photoUrl": "",
      "userId": "15485126361924099412"
     },
     "user_tz": -330
    },
    "id": "r6_5qcxsXUxm",
    "outputId": "0ba10ec2-a6af-4cea-99ef-05423e25e963"
   },
   "outputs": [
    {
     "name": "stdout",
     "output_type": "stream",
     "text": [
      "1\n",
      "2\n",
      "3\n",
      "4\n",
      "5\n",
      "6\n",
      "7\n",
      "8\n",
      "9\n",
      "0\n"
     ]
    }
   ],
   "source": [
    "# Method 2 - Doing it with a for loop\n",
    "\n",
    "for i in range(0, 10, 1): # We can give a range over which i iterates using the \"range\" function \n",
    "    print(digits[i])      # The range function has the parameters (initial value, final value + 1, step value)\n",
    "                          # Notice how the second arguement says final_value + 1, this means that for this example\n",
    "                          # i will not take the value 10 but will go only up to 9"
   ]
  },
  {
   "cell_type": "markdown",
   "metadata": {
    "colab_type": "text",
    "id": "juHW4yHLXUxs"
   },
   "source": [
    "So you can now see how having a for-loop makes writing code much shorter"
   ]
  },
  {
   "cell_type": "markdown",
   "metadata": {
    "colab_type": "text",
    "id": "yqswAWQMXUxu"
   },
   "source": [
    "# Lists"
   ]
  },
  {
   "cell_type": "markdown",
   "metadata": {
    "colab_type": "text",
    "id": "ZRE0-kC3XUxv"
   },
   "source": [
    "List - a list is a collection of variables of different types and can be updated when needed"
   ]
  },
  {
   "cell_type": "code",
   "execution_count": 0,
   "metadata": {
    "colab": {},
    "colab_type": "code",
    "id": "FbuI1Z12XUxw"
   },
   "outputs": [],
   "source": [
    "#initialising a list with no values\n",
    "list1 = []"
   ]
  },
  {
   "cell_type": "markdown",
   "metadata": {
    "colab_type": "text",
    "id": "lNpEMAbtXUx1"
   },
   "source": [
    "### Initialising a list with some values"
   ]
  },
  {
   "cell_type": "code",
   "execution_count": 9,
   "metadata": {
    "colab": {
     "base_uri": "https://localhost:8080/",
     "height": 34
    },
    "colab_type": "code",
    "executionInfo": {
     "elapsed": 2255,
     "status": "ok",
     "timestamp": 1588774963361,
     "user": {
      "displayName": "Aryan Pandey na19b030",
      "photoUrl": "",
      "userId": "15485126361924099412"
     },
     "user_tz": -330
    },
    "id": "OQUbzwWcXUx3",
    "outputId": "f232b404-24ec-4509-e279-7a2f4d7d7f1c"
   },
   "outputs": [
    {
     "name": "stdout",
     "output_type": "stream",
     "text": [
      "[1, 'a', True]\n"
     ]
    }
   ],
   "source": [
    "list2 = [1,\"a\",True]\n",
    "#note that you can have elements of all data types in a list\n",
    "print(list2)"
   ]
  },
  {
   "cell_type": "markdown",
   "metadata": {
    "colab_type": "text",
    "id": "l9pi_As-XUx-"
   },
   "source": [
    "The elements of a list can also be lists, In that case the list will be multi dimensional"
   ]
  },
  {
   "cell_type": "code",
   "execution_count": 10,
   "metadata": {
    "colab": {
     "base_uri": "https://localhost:8080/",
     "height": 34
    },
    "colab_type": "code",
    "executionInfo": {
     "elapsed": 2244,
     "status": "ok",
     "timestamp": 1588774963361,
     "user": {
      "displayName": "Aryan Pandey na19b030",
      "photoUrl": "",
      "userId": "15485126361924099412"
     },
     "user_tz": -330
    },
    "id": "-vPd0NL6XUyA",
    "outputId": "983fefdd-2a2e-4d17-dd67-8aede544580b"
   },
   "outputs": [
    {
     "name": "stdout",
     "output_type": "stream",
     "text": [
      "[[1, 2, 3], [4, 5, 6], [7, 8, 9]]\n"
     ]
    }
   ],
   "source": [
    "list4 = [[1,2,3],[4,5,6],[7,8,9]]\n",
    "print(list4)"
   ]
  },
  {
   "cell_type": "code",
   "execution_count": 0,
   "metadata": {
    "colab": {},
    "colab_type": "code",
    "id": "8nVL5Pe4XUyP"
   },
   "outputs": [],
   "source": [
    "#accessing the elements of a list\n",
    "\n",
    "#indexing also starts from -1 from the end of the list, below is an explanation of the two systems of indexing\n",
    "\n",
    "#       element1 element2 element3 element4 element5\n",
    "       \n",
    "#index:   0         1        2        3        4\n",
    "\n",
    "#index:  -5        -4       -3       -2       -1\n",
    "\n",
    "#both these systems of indexing is accepted"
   ]
  },
  {
   "cell_type": "code",
   "execution_count": 12,
   "metadata": {
    "colab": {
     "base_uri": "https://localhost:8080/",
     "height": 34
    },
    "colab_type": "code",
    "executionInfo": {
     "elapsed": 2231,
     "status": "ok",
     "timestamp": 1588774963364,
     "user": {
      "displayName": "Aryan Pandey na19b030",
      "photoUrl": "",
      "userId": "15485126361924099412"
     },
     "user_tz": -330
    },
    "id": "pLyjIluwXUyV",
    "outputId": "29e888f8-af18-4eaa-c991-851edc92687f"
   },
   "outputs": [
    {
     "name": "stdout",
     "output_type": "stream",
     "text": [
      "The fifth element is 5\n"
     ]
    }
   ],
   "source": [
    "list3 = [1,2,3,4,5,6,7,8,9]\n",
    "#suppose you want the 5th element of the list\n",
    "a = list3[4]\n",
    "print(\"The fifth element is \"+str(a))"
   ]
  },
  {
   "cell_type": "code",
   "execution_count": 13,
   "metadata": {
    "colab": {
     "base_uri": "https://localhost:8080/",
     "height": 34
    },
    "colab_type": "code",
    "executionInfo": {
     "elapsed": 2222,
     "status": "ok",
     "timestamp": 1588774963365,
     "user": {
      "displayName": "Aryan Pandey na19b030",
      "photoUrl": "",
      "userId": "15485126361924099412"
     },
     "user_tz": -330
    },
    "id": "Lfu9gHixXUyb",
    "outputId": "7976c322-80fe-4228-ca40-6481459b6977"
   },
   "outputs": [
    {
     "name": "stdout",
     "output_type": "stream",
     "text": [
      "The second last element is 8\n"
     ]
    }
   ],
   "source": [
    "#Suppose you want to acess the 2nd last element\n",
    "b = list3[-2]\n",
    "print(\"The second last element is \"+str(b))"
   ]
  },
  {
   "cell_type": "code",
   "execution_count": 14,
   "metadata": {
    "colab": {
     "base_uri": "https://localhost:8080/",
     "height": 34
    },
    "colab_type": "code",
    "executionInfo": {
     "elapsed": 2212,
     "status": "ok",
     "timestamp": 1588774963365,
     "user": {
      "displayName": "Aryan Pandey na19b030",
      "photoUrl": "",
      "userId": "15485126361924099412"
     },
     "user_tz": -330
    },
    "id": "RBs6rAzJXUyg",
    "outputId": "5f49b65d-9ead-4724-85bb-c71b8d47a5ac"
   },
   "outputs": [
    {
     "name": "stdout",
     "output_type": "stream",
     "text": [
      "Elements 2 to 5 are [2, 3, 4, 5]\n"
     ]
    }
   ],
   "source": [
    "#suppose you want to access elements 2nd to 5th position\n",
    "c = list3[1:5]     #note that the element at index 5 is not printed\n",
    "print(\"Elements 2 to 5 are\",c)"
   ]
  },
  {
   "cell_type": "code",
   "execution_count": 15,
   "metadata": {
    "colab": {
     "base_uri": "https://localhost:8080/",
     "height": 34
    },
    "colab_type": "code",
    "executionInfo": {
     "elapsed": 2204,
     "status": "ok",
     "timestamp": 1588774963367,
     "user": {
      "displayName": "Aryan Pandey na19b030",
      "photoUrl": "",
      "userId": "15485126361924099412"
     },
     "user_tz": -330
    },
    "id": "EsT206spXUyn",
    "outputId": "5552c59f-b2ce-4fd7-a6be-12d8543c9ff4"
   },
   "outputs": [
    {
     "name": "stdout",
     "output_type": "stream",
     "text": [
      "Third element onwards [3, 4, 5, 6, 7, 8, 9]\n"
     ]
    }
   ],
   "source": [
    "#Suppose you want all the elements after the third\n",
    "d = list3[2:]      #note that the third element or the element at index 2 is included\n",
    "print(\"Third element onwards\",d)"
   ]
  },
  {
   "cell_type": "code",
   "execution_count": 16,
   "metadata": {
    "colab": {
     "base_uri": "https://localhost:8080/",
     "height": 34
    },
    "colab_type": "code",
    "executionInfo": {
     "elapsed": 2193,
     "status": "ok",
     "timestamp": 1588774963367,
     "user": {
      "displayName": "Aryan Pandey na19b030",
      "photoUrl": "",
      "userId": "15485126361924099412"
     },
     "user_tz": -330
    },
    "id": "mNAqmFFOXUyt",
    "outputId": "abdf4ba1-01cd-4368-bc3d-d5dfac219327"
   },
   "outputs": [
    {
     "name": "stdout",
     "output_type": "stream",
     "text": [
      "Upto the 6th element [1, 2, 3, 4, 5, 6]\n"
     ]
    }
   ],
   "source": [
    "#Suppose you want all the elements till the 6th element\n",
    "e = list3[:6]      #note that the element at index 6 or the 7th element is excluded\n",
    "print(\"Upto the 6th element\",e)"
   ]
  },
  {
   "cell_type": "code",
   "execution_count": 17,
   "metadata": {
    "colab": {
     "base_uri": "https://localhost:8080/",
     "height": 34
    },
    "colab_type": "code",
    "executionInfo": {
     "elapsed": 2185,
     "status": "ok",
     "timestamp": 1588774963368,
     "user": {
      "displayName": "Aryan Pandey na19b030",
      "photoUrl": "",
      "userId": "15485126361924099412"
     },
     "user_tz": -330
    },
    "id": "C7FIiFknXUyy",
    "outputId": "ef776a11-3a39-4379-90dc-9fea5f71169c"
   },
   "outputs": [
    {
     "name": "stdout",
     "output_type": "stream",
     "text": [
      "Upto the second last element [1, 2, 3, 4, 5, 6, 7, 8]\n"
     ]
    }
   ],
   "source": [
    "#suppose you want all the elements till the second last element\n",
    "f =list3[:-1]\n",
    "print(\"Upto the second last element\",f)"
   ]
  },
  {
   "cell_type": "markdown",
   "metadata": {
    "colab_type": "text",
    "id": "gmm3o2yoXUy6"
   },
   "source": [
    "### Updating a list"
   ]
  },
  {
   "cell_type": "code",
   "execution_count": 18,
   "metadata": {
    "colab": {
     "base_uri": "https://localhost:8080/",
     "height": 0
    },
    "colab_type": "code",
    "executionInfo": {
     "elapsed": 2178,
     "status": "ok",
     "timestamp": 1588774963368,
     "user": {
      "displayName": "Aryan Pandey na19b030",
      "photoUrl": "",
      "userId": "15485126361924099412"
     },
     "user_tz": -330
    },
    "id": "_ZxrWhwEXUy7",
    "outputId": "d3be5599-b095-4eda-c94a-ec45029de1d0"
   },
   "outputs": [
    {
     "name": "stdout",
     "output_type": "stream",
     "text": [
      "After appending 10 [1, 2, 3, 4, 5, 6, 7, 8, 9, 10]\n"
     ]
    }
   ],
   "source": [
    "#Suppose you want to add the element 10 at the end of list3\n",
    "list3.append(10)\n",
    "print(\"After appending 10\",list3)"
   ]
  },
  {
   "cell_type": "code",
   "execution_count": 19,
   "metadata": {
    "colab": {
     "base_uri": "https://localhost:8080/",
     "height": 0
    },
    "colab_type": "code",
    "executionInfo": {
     "elapsed": 2173,
     "status": "ok",
     "timestamp": 1588774963369,
     "user": {
      "displayName": "Aryan Pandey na19b030",
      "photoUrl": "",
      "userId": "15485126361924099412"
     },
     "user_tz": -330
    },
    "id": "HOyNygBsXUzB",
    "outputId": "23cb5302-28f6-4efe-9bf2-f232f86db6c4"
   },
   "outputs": [
    {
     "name": "stdout",
     "output_type": "stream",
     "text": [
      "After inserting 11 [1, 2, 3, 4, 11, 5, 6, 7, 8, 9, 10]\n"
     ]
    }
   ],
   "source": [
    "#suppose you want to insert the element at the index 4\n",
    "list3.insert(4,11)\n",
    "print(\"After inserting 11\",list3)"
   ]
  },
  {
   "cell_type": "code",
   "execution_count": 20,
   "metadata": {
    "colab": {
     "base_uri": "https://localhost:8080/",
     "height": 0
    },
    "colab_type": "code",
    "executionInfo": {
     "elapsed": 2166,
     "status": "ok",
     "timestamp": 1588774963369,
     "user": {
      "displayName": "Aryan Pandey na19b030",
      "photoUrl": "",
      "userId": "15485126361924099412"
     },
     "user_tz": -330
    },
    "id": "5NKure59XUzG",
    "outputId": "1722629b-46aa-4f94-ec47-7ac399130994"
   },
   "outputs": [
    {
     "name": "stdout",
     "output_type": "stream",
     "text": [
      "After removing 10 [1, 2, 3, 4, 11, 5, 6, 7, 8, 9]\n"
     ]
    }
   ],
   "source": [
    "#Suppose you want to delete an element of the list and you know the value\n",
    "list3.remove(10) #this will remove the first occurence of 10 in list3\n",
    "print(\"After removing 10\",list3)"
   ]
  },
  {
   "cell_type": "code",
   "execution_count": 21,
   "metadata": {
    "colab": {
     "base_uri": "https://localhost:8080/",
     "height": 0
    },
    "colab_type": "code",
    "executionInfo": {
     "elapsed": 2162,
     "status": "ok",
     "timestamp": 1588774963370,
     "user": {
      "displayName": "Aryan Pandey na19b030",
      "photoUrl": "",
      "userId": "15485126361924099412"
     },
     "user_tz": -330
    },
    "id": "c5-QAf5HXUzK",
    "outputId": "74512390-39d7-4054-8c14-3fdd23c1f46d"
   },
   "outputs": [
    {
     "name": "stdout",
     "output_type": "stream",
     "text": [
      "After deleting the element at index 2 [1, 2, 4, 11, 5, 6, 7, 8, 9]\n"
     ]
    }
   ],
   "source": [
    "#Suppose you want to delete an element of a list by index\n",
    "del list3[2]\n",
    "print(\"After deleting the element at index 2\",list3)"
   ]
  },
  {
   "cell_type": "markdown",
   "metadata": {
    "colab_type": "text",
    "id": "mXyYl_tCXUzQ"
   },
   "source": [
    "### Length of a list"
   ]
  },
  {
   "cell_type": "code",
   "execution_count": 22,
   "metadata": {
    "colab": {
     "base_uri": "https://localhost:8080/",
     "height": 0
    },
    "colab_type": "code",
    "executionInfo": {
     "elapsed": 2156,
     "status": "ok",
     "timestamp": 1588774963371,
     "user": {
      "displayName": "Aryan Pandey na19b030",
      "photoUrl": "",
      "userId": "15485126361924099412"
     },
     "user_tz": -330
    },
    "id": "LN6KjlALXUzT",
    "outputId": "b8f6cc2d-5060-4276-832a-a23183fbfe90"
   },
   "outputs": [
    {
     "name": "stdout",
     "output_type": "stream",
     "text": [
      "Length of list3 is 9\n"
     ]
    }
   ],
   "source": [
    "length = len(list3)\n",
    "print(\"Length of list3 is\",length)"
   ]
  },
  {
   "cell_type": "markdown",
   "metadata": {
    "colab_type": "text",
    "id": "h2pyvQylXUza"
   },
   "source": [
    "### numpy - it is a library used for performing Linear Algebra"
   ]
  },
  {
   "cell_type": "code",
   "execution_count": 0,
   "metadata": {
    "colab": {},
    "colab_type": "code",
    "id": "ah_4w0IQXUzb"
   },
   "outputs": [],
   "source": [
    "import numpy as np\n",
    "list3 = np.array(list3) #list3 is now a numpy array"
   ]
  },
  {
   "cell_type": "code",
   "execution_count": 24,
   "metadata": {
    "colab": {
     "base_uri": "https://localhost:8080/",
     "height": 0
    },
    "colab_type": "code",
    "executionInfo": {
     "elapsed": 2148,
     "status": "ok",
     "timestamp": 1588774963372,
     "user": {
      "displayName": "Aryan Pandey na19b030",
      "photoUrl": "",
      "userId": "15485126361924099412"
     },
     "user_tz": -330
    },
    "id": "Xzki4U9-XUzf",
    "outputId": "a8097f4e-e29c-404f-8839-27dfc4b711dc"
   },
   "outputs": [
    {
     "name": "stdout",
     "output_type": "stream",
     "text": [
      "Reshaped list3:\n",
      "[[ 1  2  4]\n",
      " [11  5  6]\n",
      " [ 7  8  9]]\n"
     ]
    }
   ],
   "source": [
    "#suppose you want to reshape list3 to 3x3 (there are 12 elements now)\n",
    "list3 = list3.reshape((3,3))\n",
    "print(\"Reshaped list3:\")\n",
    "print(list3)"
   ]
  },
  {
   "cell_type": "code",
   "execution_count": 25,
   "metadata": {
    "colab": {
     "base_uri": "https://localhost:8080/",
     "height": 0
    },
    "colab_type": "code",
    "executionInfo": {
     "elapsed": 2144,
     "status": "ok",
     "timestamp": 1588774963373,
     "user": {
      "displayName": "Aryan Pandey na19b030",
      "photoUrl": "",
      "userId": "15485126361924099412"
     },
     "user_tz": -330
    },
    "id": "E7xoQGouXUzj",
    "outputId": "47291b64-be4a-4370-c103-efa78d59e023"
   },
   "outputs": [
    {
     "name": "stdout",
     "output_type": "stream",
     "text": [
      "Shape of list3 is (3, 3)\n"
     ]
    }
   ],
   "source": [
    "#Suppose you want to know the shape of a list\n",
    "shape = list3.shape\n",
    "print(\"Shape of list3 is\",shape)"
   ]
  },
  {
   "cell_type": "code",
   "execution_count": 26,
   "metadata": {
    "colab": {
     "base_uri": "https://localhost:8080/",
     "height": 0
    },
    "colab_type": "code",
    "executionInfo": {
     "elapsed": 2139,
     "status": "ok",
     "timestamp": 1588774963374,
     "user": {
      "displayName": "Aryan Pandey na19b030",
      "photoUrl": "",
      "userId": "15485126361924099412"
     },
     "user_tz": -330
    },
    "id": "pdWdK004XUzo",
    "outputId": "052f1547-b2ae-48e3-9ffc-8bb3dd43b6d7"
   },
   "outputs": [
    {
     "name": "stdout",
     "output_type": "stream",
     "text": [
      "The unique values in list5 are [1 2 4 6 7 8 9]\n"
     ]
    }
   ],
   "source": [
    "#Suppose you want all the unique values in a list\n",
    "list5 = [1,2,2,4,4,7,8,9,4,6,6]\n",
    "list5 = np.array(list5)\n",
    "uq = np.unique(list5)\n",
    "print(\"The unique values in list5 are\",uq)"
   ]
  },
  {
   "cell_type": "markdown",
   "metadata": {
    "colab_type": "text",
    "id": "n9PFsM5aXUzs"
   },
   "source": [
    "# Dictionary"
   ]
  },
  {
   "cell_type": "markdown",
   "metadata": {
    "colab_type": "text",
    "id": "4T_BIiB7XUzt"
   },
   "source": [
    "dictionary is a datatype storing key value pairs. Where in lists each element is represented by its index, in a dictionary each element is represented by its key"
   ]
  },
  {
   "cell_type": "code",
   "execution_count": 0,
   "metadata": {
    "colab": {},
    "colab_type": "code",
    "id": "c0p6COmLXUzv"
   },
   "outputs": [],
   "source": [
    "dict1 = {'a':'apple','b':'ball','c':'cat'}\n",
    "dict2 = {1:'apple',2:'ball',3:'cat'}\n",
    "#As you see the keys in dict 1 are 'a','b','c' and in dict2 are 1,2,3"
   ]
  },
  {
   "cell_type": "markdown",
   "metadata": {
    "colab_type": "text",
    "id": "umNxR-B0XUzx"
   },
   "source": [
    "### Accessing elements"
   ]
  },
  {
   "cell_type": "code",
   "execution_count": 28,
   "metadata": {
    "colab": {
     "base_uri": "https://localhost:8080/",
     "height": 0
    },
    "colab_type": "code",
    "executionInfo": {
     "elapsed": 2132,
     "status": "ok",
     "timestamp": 1588774963375,
     "user": {
      "displayName": "Aryan Pandey na19b030",
      "photoUrl": "",
      "userId": "15485126361924099412"
     },
     "user_tz": -330
    },
    "id": "Sp-pDQODXUzz",
    "outputId": "fe736933-5cce-4941-f5c3-d02be8de74cd"
   },
   "outputs": [
    {
     "name": "stdout",
     "output_type": "stream",
     "text": [
      "Element of key 1 is apple\n"
     ]
    }
   ],
   "source": [
    "#Suppoose youu want the element correspoding to key 1\n",
    "a = dict2[1]\n",
    "print(\"Element of key 1 is \"+a)"
   ]
  },
  {
   "cell_type": "code",
   "execution_count": 29,
   "metadata": {
    "colab": {
     "base_uri": "https://localhost:8080/",
     "height": 0
    },
    "colab_type": "code",
    "executionInfo": {
     "elapsed": 2128,
     "status": "ok",
     "timestamp": 1588774963377,
     "user": {
      "displayName": "Aryan Pandey na19b030",
      "photoUrl": "",
      "userId": "15485126361924099412"
     },
     "user_tz": -330
    },
    "id": "k1IiPbP6XUz2",
    "outputId": "846a6705-cfe7-4d5c-83de-391926f63b42"
   },
   "outputs": [
    {
     "name": "stdout",
     "output_type": "stream",
     "text": [
      "After adding new pair {1: 'apple', 2: 'ball', 3: 'cat', 4: 'dog'}\n"
     ]
    }
   ],
   "source": [
    "#Adding a new key value pair\n",
    "dict2[4] = 'dog'\n",
    "print(\"After adding new pair\",dict2)"
   ]
  },
  {
   "cell_type": "code",
   "execution_count": 30,
   "metadata": {
    "colab": {
     "base_uri": "https://localhost:8080/",
     "height": 0
    },
    "colab_type": "code",
    "executionInfo": {
     "elapsed": 2124,
     "status": "ok",
     "timestamp": 1588774963378,
     "user": {
      "displayName": "Aryan Pandey na19b030",
      "photoUrl": "",
      "userId": "15485126361924099412"
     },
     "user_tz": -330
    },
    "id": "_b_8untpXUz6",
    "outputId": "bb242cfc-d6ea-4e5a-cf01-314e0f5a16c5"
   },
   "outputs": [
    {
     "name": "stdout",
     "output_type": "stream",
     "text": [
      "Values in dict2 dict_values(['apple', 'ball', 'cat', 'dog'])\n"
     ]
    }
   ],
   "source": [
    "#Getting all the values in a dictionary\n",
    "val = dict2.values()\n",
    "print(\"Values in dict2\",val)"
   ]
  },
  {
   "cell_type": "markdown",
   "metadata": {
    "colab_type": "text",
    "id": "2J9RnG5dXUz_"
   },
   "source": [
    "### Change a value in a dict"
   ]
  },
  {
   "cell_type": "code",
   "execution_count": 31,
   "metadata": {
    "colab": {
     "base_uri": "https://localhost:8080/",
     "height": 0
    },
    "colab_type": "code",
    "executionInfo": {
     "elapsed": 2117,
     "status": "ok",
     "timestamp": 1588774963378,
     "user": {
      "displayName": "Aryan Pandey na19b030",
      "photoUrl": "",
      "userId": "15485126361924099412"
     },
     "user_tz": -330
    },
    "id": "22zx1Xd8XU0A",
    "outputId": "dac94438-b60f-407e-ed4a-2daa513fb776"
   },
   "outputs": [
    {
     "name": "stdout",
     "output_type": "stream",
     "text": [
      "Dict2 after changing\n",
      "{1: 'apple', 2: 'play', 3: 'cat', 4: 'dog'}\n"
     ]
    }
   ],
   "source": [
    "dict2[2] = 'play'\n",
    "print(\"Dict2 after changing\")\n",
    "print(dict2)"
   ]
  },
  {
   "cell_type": "markdown",
   "metadata": {
    "colab_type": "text",
    "id": "ARwBMVKEXU0E"
   },
   "source": [
    "# Functions"
   ]
  },
  {
   "cell_type": "markdown",
   "metadata": {
    "colab_type": "text",
    "id": "LY7jQI6EXU0E"
   },
   "source": [
    "Functions are small segments of code that are written once and can be used multiple times instead of writing the code again and again"
   ]
  },
  {
   "cell_type": "code",
   "execution_count": 0,
   "metadata": {
    "colab": {},
    "colab_type": "code",
    "id": "foN9qJS7XU0F"
   },
   "outputs": [],
   "source": [
    "#How to define a func\n",
    "def func_name(parameters):\n",
    "  '''\n",
    "  your function body\n",
    "  '''"
   ]
  },
  {
   "cell_type": "markdown",
   "metadata": {
    "colab_type": "text",
    "id": "ajWEejjRXU0I"
   },
   "source": [
    "func_name is your choice of function name and in the paranthesis you can keep all the variables the function accepts"
   ]
  },
  {
   "cell_type": "code",
   "execution_count": 0,
   "metadata": {
    "colab": {},
    "colab_type": "code",
    "id": "Pgdo4mDUXU0J"
   },
   "outputs": [],
   "source": [
    "#A simple function that takes two parameters and returns their sum\n",
    "def sum(a,b):\n",
    "  tot = a+b\n",
    "  return tot"
   ]
  },
  {
   "cell_type": "code",
   "execution_count": 34,
   "metadata": {
    "colab": {
     "base_uri": "https://localhost:8080/",
     "height": 34
    },
    "colab_type": "code",
    "executionInfo": {
     "elapsed": 2107,
     "status": "ok",
     "timestamp": 1588774963381,
     "user": {
      "displayName": "Aryan Pandey na19b030",
      "photoUrl": "",
      "userId": "15485126361924099412"
     },
     "user_tz": -330
    },
    "id": "kN7E5lRmXU0N",
    "outputId": "26e4273a-1df1-4996-927f-1e59d5ce13a3"
   },
   "outputs": [
    {
     "name": "stdout",
     "output_type": "stream",
     "text": [
      "Output is 33\n"
     ]
    }
   ],
   "source": [
    "i = 10\n",
    "j = 23\n",
    "total = sum(i,j)\n",
    "print(\"Output is\",total)"
   ]
  },
  {
   "cell_type": "markdown",
   "metadata": {
    "colab_type": "text",
    "id": "ky3YI1IPXU0Q"
   },
   "source": [
    "# Classes"
   ]
  },
  {
   "cell_type": "markdown",
   "metadata": {
    "colab_type": "text",
    "id": "wr0uF8_dXU0Q"
   },
   "source": [
    "Let's look at classes in python"
   ]
  },
  {
   "cell_type": "markdown",
   "metadata": {
    "colab_type": "text",
    "id": "SlILrT5DXU0R"
   },
   "source": [
    "Classes are used in across Object Oriented Programming, to combine data and functionality together into a single bundle. "
   ]
  },
  {
   "cell_type": "markdown",
   "metadata": {
    "colab_type": "text",
    "id": "LC-EZVhaXU0S"
   },
   "source": [
    "Creating a class, creates a new type of object, which can have multiple instances"
   ]
  },
  {
   "cell_type": "markdown",
   "metadata": {
    "colab_type": "text",
    "id": "4x7zC11HXU0S"
   },
   "source": [
    "These instances of classes are called objects"
   ]
  },
  {
   "cell_type": "markdown",
   "metadata": {
    "colab_type": "text",
    "id": "JxIg-vM9XU0T"
   },
   "source": [
    "#### Defining a Class"
   ]
  },
  {
   "cell_type": "markdown",
   "metadata": {
    "colab_type": "text",
    "id": "zryTDEp7XU0U"
   },
   "source": [
    "#Defining a class with name as ClassName\n",
    "\n",
    "class ClassName:\n",
    "    \n",
    "    #Statements within classes"
   ]
  },
  {
   "cell_type": "markdown",
   "metadata": {
    "colab_type": "text",
    "id": "eCZkvtvSXU0U"
   },
   "source": [
    "#### Contents within a class : \n",
    "Data as well as functions...\n",
    "These are known as attributes of the class"
   ]
  },
  {
   "cell_type": "code",
   "execution_count": 0,
   "metadata": {
    "colab": {},
    "colab_type": "code",
    "id": "XFc92ytjXU0V"
   },
   "outputs": [],
   "source": [
    "class ClassName:\n",
    "    \n",
    "    #Some data \n",
    "\n",
    "    number=5\n",
    "    \n",
    "    #Some functions\n",
    "    \n",
    "    def result():\n",
    "        return number"
   ]
  },
  {
   "cell_type": "markdown",
   "metadata": {
    "colab_type": "text",
    "id": "pZF5N6lvXU0Y"
   },
   "source": [
    "#### Initialising a Class\n",
    "\n",
    "Initialising a class refers to creating an instance of the class. To initialise an instance of the class, the syntax used is:"
   ]
  },
  {
   "cell_type": "code",
   "execution_count": 0,
   "metadata": {
    "colab": {},
    "colab_type": "code",
    "id": "QJzeFERzXU0Z"
   },
   "outputs": [],
   "source": [
    "p=ClassName()  #This creates an object (instance of the class) p of the class ClassName, as defined in the previous"
   ]
  },
  {
   "cell_type": "markdown",
   "metadata": {
    "colab_type": "text",
    "id": "4zVTn2SDXU0c"
   },
   "source": [
    "#### The first parameter of any function in class  (self)"
   ]
  },
  {
   "cell_type": "markdown",
   "metadata": {
    "colab_type": "text",
    "id": "zdMT1r_-XU0c"
   },
   "source": [
    "The first parameter in all functions of the class refer to the current instance of the class, and is used to refer to the variables of the class. This parameter is generally named as self, but it need not be so always."
   ]
  },
  {
   "cell_type": "code",
   "execution_count": 0,
   "metadata": {
    "colab": {},
    "colab_type": "code",
    "id": "5UOakm3gXU0d"
   },
   "outputs": [],
   "source": [
    "class ClassName:\n",
    "    \n",
    "    \n",
    "    def function(self,x,y):\n",
    "        return "
   ]
  },
  {
   "cell_type": "markdown",
   "metadata": {
    "colab_type": "text",
    "id": "JWbmeRSiXU0g"
   },
   "source": [
    "#### The __init__() function"
   ]
  },
  {
   "cell_type": "markdown",
   "metadata": {
    "colab_type": "text",
    "id": "2qZoGlcXXU0g"
   },
   "source": [
    "The _init_() function is a built-in function in all the classes. It is the first function to be executed each time a class is initialised. It is mainly used to assign values to the object properties\n"
   ]
  },
  {
   "cell_type": "code",
   "execution_count": 0,
   "metadata": {
    "colab": {},
    "colab_type": "code",
    "id": "9USbfIkKXU0h"
   },
   "outputs": [],
   "source": [
    "class ClassName:\n",
    "    \n",
    "    def __init__(self,value1,value2):\n",
    "        \n",
    "        #We use self to access the variables belonging to the class\n",
    "        self.property1= value1           # The data attribute \"property1\" of the class is assigned as value1\n",
    "        self.property2= value2           # The data attribute \"property2\" of the class is assigned as value2\n",
    "        \n",
    "        \n",
    "#While initialising an instance of the class:\n",
    "\n",
    "p=ClassName(5,10)           \n",
    "#We pass the parameters as 5 and 10 which as stored as property1 and property2 of the class instance"
   ]
  },
  {
   "cell_type": "markdown",
   "metadata": {
    "colab_type": "text",
    "id": "_GI3k6A5XU0m"
   },
   "source": [
    "#### Defining some other functions in the class"
   ]
  },
  {
   "cell_type": "markdown",
   "metadata": {
    "colab_type": "text",
    "id": "zEQFME5bXU0m"
   },
   "source": [
    "Other functions can be defined in the class as well, apart from the _init_() function, but remember that the first parameter refers to the instance of the class, used to refer its variables (generally self)"
   ]
  },
  {
   "cell_type": "code",
   "execution_count": 0,
   "metadata": {
    "colab": {},
    "colab_type": "code",
    "id": "hz6edrNpXU0n"
   },
   "outputs": [],
   "source": [
    "class ClassName:\n",
    "    \n",
    "     def __init__(self,value1,value2):\n",
    "        \n",
    "        #We use self to access the variables belonging to the class\n",
    "        self.property1= value1           # The data attribute \"property1\" of the class is assigned as value1\n",
    "        self.property2= value2           # The data attribute \"property2\" of the class is assigned as value2\n",
    "   \n",
    "     def funct1(self,a,b):\n",
    "        \n",
    "        #The same rule applies, self is used to access the variables belonging to the class\n",
    "        #Other syntax remains same as ordinary functions\n",
    "        \n",
    "        sum_property1_a_b= self.property1 + a + b\n",
    "        print(\"Operation Complete\")\n",
    "        \n",
    "        return sum_property1_a_b"
   ]
  },
  {
   "cell_type": "markdown",
   "metadata": {
    "colab_type": "text",
    "id": "RZaRrrMlXU0q"
   },
   "source": [
    "#### Calling the attributes of the class from outside : Functions and Data Variables"
   ]
  },
  {
   "cell_type": "code",
   "execution_count": 40,
   "metadata": {
    "colab": {
     "base_uri": "https://localhost:8080/",
     "height": 34
    },
    "colab_type": "code",
    "executionInfo": {
     "elapsed": 2087,
     "status": "ok",
     "timestamp": 1588774963385,
     "user": {
      "displayName": "Aryan Pandey na19b030",
      "photoUrl": "",
      "userId": "15485126361924099412"
     },
     "user_tz": -330
    },
    "id": "7wvFkbgSXU0q",
    "outputId": "6a6e7117-3b48-425f-e2f6-22c06ba26b98"
   },
   "outputs": [
    {
     "name": "stdout",
     "output_type": "stream",
     "text": [
      "Operation Complete\n"
     ]
    }
   ],
   "source": [
    "#Defining an instance of the class\n",
    "\n",
    "p=ClassName(5,10)\n",
    "\n",
    "p.property1 = 4 #To access the variable \"property1\" of the object p and change it from 5 to 4\n",
    "\n",
    "result=p.funct1(20,30)   # To call the function funct1 of the class object p, with the parameters a=20 and b=30, and stores the return value in the variable result"
   ]
  },
  {
   "cell_type": "markdown",
   "metadata": {
    "colab_type": "text",
    "id": "Ccfh1XqvXU0u"
   },
   "source": [
    "## Enumerate()"
   ]
  },
  {
   "cell_type": "markdown",
   "metadata": {
    "colab_type": "text",
    "id": "JirdiSSMXU0u"
   },
   "source": [
    "Enumerate() is a built-in function in python, which allows us to keep a count of the iterable. It returns an object of type enumerate, which incorporates both the count as well as values of the iterable"
   ]
  },
  {
   "cell_type": "markdown",
   "metadata": {
    "colab_type": "text",
    "id": "atwnXCbmXU0v"
   },
   "source": [
    "__Syntax__\n",
    "\n",
    "enumerate(iterable,start=initial_count)  # iterable is any object which supports iteration \n",
    "\n",
    "_initial_count is the starting index of the counter\n",
    "The default value of initial_count is 0_"
   ]
  },
  {
   "cell_type": "code",
   "execution_count": 41,
   "metadata": {
    "colab": {
     "base_uri": "https://localhost:8080/",
     "height": 121
    },
    "colab_type": "code",
    "executionInfo": {
     "elapsed": 2081,
     "status": "ok",
     "timestamp": 1588774963386,
     "user": {
      "displayName": "Aryan Pandey na19b030",
      "photoUrl": "",
      "userId": "15485126361924099412"
     },
     "user_tz": -330
    },
    "id": "vFCP7uEmXU0w",
    "outputId": "1c7d8c3e-8822-43c1-90dc-76d98e7b86ea"
   },
   "outputs": [
    {
     "name": "stdout",
     "output_type": "stream",
     "text": [
      "0\n",
      "eat\n",
      "1\n",
      "sleep\n",
      "2\n",
      "repeat\n"
     ]
    }
   ],
   "source": [
    "# An example of how to implement enumerate() and convert a list to enumerate object\n",
    "\n",
    "l1 = [\"eat\",\"sleep\",\"repeat\"] \n",
    "\n",
    "# creating enumerate objects \n",
    "obj1 = enumerate(l1,start=0) \n",
    "\n",
    "for i,val in obj1:\n",
    "    print(i)\n",
    "    print(val)"
   ]
  },
  {
   "cell_type": "code",
   "execution_count": 0,
   "metadata": {
    "colab": {},
    "colab_type": "code",
    "id": "f9tObAslXU00"
   },
   "outputs": [],
   "source": []
  }
 ],
 "metadata": {
  "colab": {
   "name": "Python-Syntax.ipynb",
   "provenance": []
  },
  "kernelspec": {
   "display_name": "Python 3",
   "language": "python",
   "name": "python3"
  },
  "language_info": {
   "codemirror_mode": {
    "name": "ipython",
    "version": 3
   },
   "file_extension": ".py",
   "mimetype": "text/x-python",
   "name": "python",
   "nbconvert_exporter": "python",
   "pygments_lexer": "ipython3",
   "version": "3.6.9"
  }
 },
 "nbformat": 4,
 "nbformat_minor": 1
}

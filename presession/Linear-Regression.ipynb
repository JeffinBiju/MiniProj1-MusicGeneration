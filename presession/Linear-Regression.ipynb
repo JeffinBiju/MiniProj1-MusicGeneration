{
 "cells": [
  {
   "cell_type": "markdown",
   "metadata": {
    "colab_type": "text",
    "id": "jXG99obpc6th"
   },
   "source": [
    "# Linear Regression"
   ]
  },
  {
   "cell_type": "markdown",
   "metadata": {
    "colab_type": "text",
    "id": "ng1TXRuSdDmE"
   },
   "source": [
    "So far we have seen what Machine Learning is and why we use machine learning\n",
    "\n",
    "We also have seen the difference between supervised and unsupervised learning\n",
    "\n",
    "While talking about supervised learning we have defined regression to be a part of it"
   ]
  },
  {
   "cell_type": "markdown",
   "metadata": {
    "colab_type": "text",
    "id": "AJPo1o0ldU9N"
   },
   "source": [
    "#### So get ready to finally learn your first Machine Learning Algorithm - Linear Regression!!"
   ]
  },
  {
   "cell_type": "markdown",
   "metadata": {
    "colab_type": "text",
    "id": "opHojCYbdYqC"
   },
   "source": [
    "Let's first start by importing some relevant libraries"
   ]
  },
  {
   "cell_type": "code",
   "execution_count": 0,
   "metadata": {
    "colab": {},
    "colab_type": "code",
    "id": "bE6pSKj3mJE7"
   },
   "outputs": [],
   "source": [
    "import pandas as pd                   # This is the library which is used for operations which have to be done on any data\n",
    "import numpy as np                    # This is the library we will be using for linear algebra\n",
    "import matplotlib.pyplot as plt       # This is the library we use for plotting graphs and make visualisations\n",
    "%matplotlib inline\n",
    "from IPython.display import Image"
   ]
  },
  {
   "cell_type": "markdown",
   "metadata": {
    "colab_type": "text",
    "id": "eGPkfSxNd2c0"
   },
   "source": [
    "Now that we have finished importing libraries let's read our data into a DataFrame"
   ]
  },
  {
   "cell_type": "code",
   "execution_count": 0,
   "metadata": {
    "colab": {},
    "colab_type": "code",
    "id": "iI-29vnowuiO"
   },
   "outputs": [],
   "source": [
    "data = pd.read_csv(\"data.csv\")        # Reads a CSV file into a DataFrame"
   ]
  },
  {
   "cell_type": "code",
   "execution_count": 9,
   "metadata": {
    "colab": {
     "base_uri": "https://localhost:8080/",
     "height": 206
    },
    "colab_type": "code",
    "executionInfo": {
     "elapsed": 988,
     "status": "ok",
     "timestamp": 1588870711556,
     "user": {
      "displayName": "Aditya Das me19b194",
      "photoUrl": "",
      "userId": "09366802235048220900"
     },
     "user_tz": -330
    },
    "id": "NKDEwgbXGT8l",
    "outputId": "d0abdeee-7df3-4cdf-d478-791c9646e67b"
   },
   "outputs": [
    {
     "data": {
      "text/html": [
       "<div>\n",
       "<style scoped>\n",
       "    .dataframe tbody tr th:only-of-type {\n",
       "        vertical-align: middle;\n",
       "    }\n",
       "\n",
       "    .dataframe tbody tr th {\n",
       "        vertical-align: top;\n",
       "    }\n",
       "\n",
       "    .dataframe thead th {\n",
       "        text-align: right;\n",
       "    }\n",
       "</style>\n",
       "<table border=\"1\" class=\"dataframe\">\n",
       "  <thead>\n",
       "    <tr style=\"text-align: right;\">\n",
       "      <th></th>\n",
       "      <th>feature</th>\n",
       "      <th>target</th>\n",
       "    </tr>\n",
       "  </thead>\n",
       "  <tbody>\n",
       "    <tr>\n",
       "      <th>0</th>\n",
       "      <td>0.848383</td>\n",
       "      <td>34.465973</td>\n",
       "    </tr>\n",
       "    <tr>\n",
       "      <th>1</th>\n",
       "      <td>-0.294726</td>\n",
       "      <td>2.751125</td>\n",
       "    </tr>\n",
       "    <tr>\n",
       "      <th>2</th>\n",
       "      <td>1.001241</td>\n",
       "      <td>5.097244</td>\n",
       "    </tr>\n",
       "    <tr>\n",
       "      <th>3</th>\n",
       "      <td>0.186086</td>\n",
       "      <td>23.181563</td>\n",
       "    </tr>\n",
       "    <tr>\n",
       "      <th>4</th>\n",
       "      <td>-0.851089</td>\n",
       "      <td>20.401837</td>\n",
       "    </tr>\n",
       "  </tbody>\n",
       "</table>\n",
       "</div>"
      ],
      "text/plain": [
       "    feature     target\n",
       "0  0.848383  34.465973\n",
       "1 -0.294726   2.751125\n",
       "2  1.001241   5.097244\n",
       "3  0.186086  23.181563\n",
       "4 -0.851089  20.401837"
      ]
     },
     "execution_count": 9,
     "metadata": {
      "tags": []
     },
     "output_type": "execute_result"
    }
   ],
   "source": [
    "data.head(5)                           # Gives us the first 5 elements of the DataFrame"
   ]
  },
  {
   "cell_type": "markdown",
   "metadata": {
    "colab_type": "text",
    "id": "hqQrw1TLeOXp"
   },
   "source": [
    "So we have finished the first step of this whole process\n",
    "\n",
    "Our data is ready\n",
    "\n",
    "Let's explore this data a little more"
   ]
  },
  {
   "cell_type": "code",
   "execution_count": 10,
   "metadata": {
    "colab": {
     "base_uri": "https://localhost:8080/",
     "height": 265
    },
    "colab_type": "code",
    "executionInfo": {
     "elapsed": 978,
     "status": "ok",
     "timestamp": 1588870713943,
     "user": {
      "displayName": "Aditya Das me19b194",
      "photoUrl": "",
      "userId": "09366802235048220900"
     },
     "user_tz": -330
    },
    "id": "qHy9STwownMB",
    "outputId": "0d0f92d4-550d-4667-d819-958b7acdbc64"
   },
   "outputs": [
    {
     "data": {
      "image/png": "[encoded data removed]",
      "text/plain": [
       "<Figure size 432x288 with 1 Axes>"
      ]
     },
     "metadata": {
      "needs_background": "light",
      "tags": []
     },
     "output_type": "display_data"
    }
   ],
   "source": [
    "x = data['feature'].values\n",
    "y = data['target'].values\n",
    "\n",
    "#Lets Visualise the dataset\n",
    "plt.scatter(x,y)                        # the scatter function makes a scatter plot of the data that is passed to it\n",
    "plt.show()"
   ]
  },
  {
   "cell_type": "markdown",
   "metadata": {
    "colab_type": "text",
    "id": "yL1g-MIye_3h"
   },
   "source": [
    "We can see that the Feature is Linearly increasing with the Target\n",
    "\n",
    "So it is safe to assume that the trend followed here is of the form y = ax + b where y is the Target, x is the Feature and a and b are parameters(slope and intercept)\n",
    "\n",
    "The model needs to finally learn what will be the best choice for a and b so that we can represent the points accurately\n",
    "\n",
    "Get ready to dive into the algorithm!!\n",
    "\n",
    "Take as much time as you need to understand this, you can contact any group admin for doubts or post your doubts in the link on the github repository for doubt clarification"
   ]
  },
  {
   "cell_type": "code",
   "execution_count": 0,
   "metadata": {
    "colab": {},
    "colab_type": "code",
    "id": "jSwzNId7w-Df"
   },
   "outputs": [],
   "source": [
    "'''Usually the data is split into batches and trained over\n",
    "But since the dataset is very small, we shall use the whole data as one batch'''\n",
    "\n",
    "'''If its not split into batches and is trained on each data point one by one, the cost function\n",
    "would fluctuate a lot and would converge very slowly as each data point is completely new to it\n",
    "whereas a batch would give a better over all idea'''\n",
    "\n",
    "'''Usually we dont take the entire dataset as a batch as datasets are quite large and there\n",
    "will be memory issues'''\n",
    "\n",
    "#Defining the model parameters\n",
    "num_iters = 400 #The number of times you want to train over the dataset\n",
    "lr=0.01 #Learning rate\n",
    "a = 0.0  #Initial value of slope\n",
    "b = 0.0  #Initial value of bias\n",
    "\n",
    "#for plotting\n",
    "cost_vals = []\n",
    "\n",
    "for i in range(num_iters):\n",
    "  #make a prediction first\n",
    "  #note that y_pred is a vector of predictions\n",
    "  y_pred = a*x+b\n",
    "\n",
    "  #find the error and cost. The mean squared error cost function is used\n",
    "  error = y_pred-y\n",
    "  cost = 0.5*np.mean(error**2)\n",
    "  \n",
    "  '''Now we shall compute the partial derivatives of the cost with\n",
    "  respect to a and b\n",
    "  Since y_pred and y are vectors, your partial derivative will also be a vector of \n",
    "  partial derivatives for each input\n",
    "  So we shall find the mean partial derivative and update with this mean value\n",
    "  Look at the uploaded image for the formula\n",
    "  '''\n",
    "  a_derivative = np.mean((y_pred-y)*x) #y_pred-y * x does a element wise multiplication \n",
    "  b_derivative = np.mean(y_pred-y)\n",
    "\n",
    "  #Now to update the values of a and b, in other words, perform gradient descent\n",
    "  a = a - lr*a_derivative\n",
    "  b = b - lr*b_derivative\n",
    "\n",
    "  cost_vals.append(cost)"
   ]
  },
  {
   "cell_type": "markdown",
   "metadata": {
    "colab": {
     "base_uri": "https://localhost:8080/",
     "height": 1000
    },
    "colab_type": "code",
    "executionInfo": {
     "elapsed": 2580,
     "status": "ok",
     "timestamp": 1588870721609,
     "user": {
      "displayName": "Aditya Das me19b194",
      "photoUrl": "",
      "userId": "09366802235048220900"
     },
     "user_tz": -330
    },
    "id": "DrR6XlE-C3H8",
    "outputId": "1aa6ae50-ebac-4cac-d380-1d210023d971"
   },
   "source": [
    "<img src=\"images/lin-reg.jpeg\" width=\"500\" height=\"500\"/>"
   ]
  },
  {
   "cell_type": "code",
   "execution_count": 13,
   "metadata": {
    "colab": {
     "base_uri": "https://localhost:8080/",
     "height": 265
    },
    "colab_type": "code",
    "executionInfo": {
     "elapsed": 938,
     "status": "ok",
     "timestamp": 1588870723922,
     "user": {
      "displayName": "Aditya Das me19b194",
      "photoUrl": "",
      "userId": "09366802235048220900"
     },
     "user_tz": -330
    },
    "id": "roDqo3X7z_Rh",
    "outputId": "f6125579-dfc0-49c8-b5f8-6c0df84d9d26"
   },
   "outputs": [
    {
     "data": {
      "image/png": "[encoded data removed]",
      "text/plain": [
       "<Figure size 432x288 with 1 Axes>"
      ]
     },
     "metadata": {
      "needs_background": "light",
      "tags": []
     },
     "output_type": "display_data"
    }
   ],
   "source": [
    "#Lets see how the cost changes with number of iters\n",
    "x_axis = np.arange(0,len(cost_vals),1)\n",
    "plt.plot(x_axis,cost_vals)\n",
    "plt.show()"
   ]
  },
  {
   "cell_type": "code",
   "execution_count": 14,
   "metadata": {
    "colab": {
     "base_uri": "https://localhost:8080/",
     "height": 283
    },
    "colab_type": "code",
    "executionInfo": {
     "elapsed": 1350,
     "status": "ok",
     "timestamp": 1588870725140,
     "user": {
      "displayName": "Aditya Das me19b194",
      "photoUrl": "",
      "userId": "09366802235048220900"
     },
     "user_tz": -330
    },
    "id": "8UNAc0O70cQU",
    "outputId": "48b69cb7-e887-4f88-dd7f-d1ecca3ce14c"
   },
   "outputs": [
    {
     "data": {
      "text/plain": [
       "[<matplotlib.lines.Line2D at 0x7effa04b0588>]"
      ]
     },
     "execution_count": 14,
     "metadata": {
      "tags": []
     },
     "output_type": "execute_result"
    },
    {
     "data": {
      "image/png": "[encoded data removed]",
      "text/plain": [
       "<Figure size 432x288 with 1 Axes>"
      ]
     },
     "metadata": {
      "needs_background": "light",
      "tags": []
     },
     "output_type": "display_data"
    }
   ],
   "source": [
    "#Lets now plot the line to see how well it has fit the data\n",
    "plt.figure()\n",
    "plt.scatter(x,y)\n",
    "linex = np.arange(-3,3,1)\n",
    "liney = a*linex + b\n",
    "plt.plot(linex,liney)"
   ]
  },
  {
   "cell_type": "code",
   "execution_count": 15,
   "metadata": {
    "colab": {
     "base_uri": "https://localhost:8080/",
     "height": 53
    },
    "colab_type": "code",
    "executionInfo": {
     "elapsed": 1046,
     "status": "ok",
     "timestamp": 1588870725563,
     "user": {
      "displayName": "Aditya Das me19b194",
      "photoUrl": "",
      "userId": "09366802235048220900"
     },
     "user_tz": -330
    },
    "id": "ATaQgVz9Bbuq",
    "outputId": "667a4323-6ce8-4583-dd49-5257a09a70cd"
   },
   "outputs": [
    {
     "name": "stdout",
     "output_type": "stream",
     "text": [
      "a =  28.331297201934877\n",
      "b =  1.8689084353409613\n"
     ]
    }
   ],
   "source": [
    "#Lets see what values it has learnt \n",
    "print(\"a = \",a)\n",
    "print(\"b = \",b)"
   ]
  },
  {
   "cell_type": "code",
   "execution_count": 0,
   "metadata": {
    "colab": {},
    "colab_type": "code",
    "id": "_ayZaK-HIi7X"
   },
   "outputs": [],
   "source": []
  }
 ],
 "metadata": {
  "colab": {
   "name": "Linear-Regression.ipynb",
   "provenance": []
  },
  "kernelspec": {
   "display_name": "Python 3",
   "language": "python",
   "name": "python3"
  },
  "language_info": {
   "codemirror_mode": {
    "name": "ipython",
    "version": 3
   },
   "file_extension": ".py",
   "mimetype": "text/x-python",
   "name": "python",
   "nbconvert_exporter": "python",
   "pygments_lexer": "ipython3",
   "version": "3.6.9"
  }
 },
 "nbformat": 4,
 "nbformat_minor": 1
}

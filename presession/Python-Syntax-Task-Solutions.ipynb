{
 "cells": [
  {
   "cell_type": "code",
   "execution_count": 11,
   "metadata": {},
   "outputs": [],
   "source": [
    "task_list = [23,45,21,34,56,75,33,45,90,21,34,67]\n",
    "# Don't forget to run this cell"
   ]
  },
  {
   "cell_type": "code",
   "execution_count": 12,
   "metadata": {},
   "outputs": [
    {
     "name": "stdout",
     "output_type": "stream",
     "text": [
      "56\n",
      "75\n",
      "90\n",
      "67\n"
     ]
    }
   ],
   "source": [
    "# In this cell define a function to which you pass the task_list and print all the values that are greater than 50\n",
    "def sub_task1(func_list):\n",
    "    for i in range(len(func_list)):\n",
    "        if func_list[i]>50:\n",
    "            print(func_list[i])\n",
    "    \n",
    "sub_task1(task_list)"
   ]
  },
  {
   "cell_type": "code",
   "execution_count": 13,
   "metadata": {},
   "outputs": [
    {
     "name": "stdout",
     "output_type": "stream",
     "text": [
      "[45, 21, 34] [75, 33, 45] [21, 34, 67]\n"
     ]
    }
   ],
   "source": [
    "# In this cell, make a function to print the 2nd,3rd,4th, 6th,7th,8th and 10th,11th,12th elements of task_list\n",
    "# Remember to use the ':' operator\n",
    "\n",
    "def sub_task2(func_list):\n",
    "    print(func_list[1:4], func_list[5:8], func_list[9:])\n",
    "\n",
    "sub_task2(task_list)"
   ]
  },
  {
   "cell_type": "code",
   "execution_count": 14,
   "metadata": {},
   "outputs": [],
   "source": [
    "'''Your next subtask is to insert the element 45 at the 3rd position in the list and remove 67 from the list'''\n",
    "# Again make functions and call them\n",
    "def sub_task3(func_list):\n",
    "    func_list.insert(2, 45)\n",
    "    func_list.remove(67)\n",
    "sub_task3(task_list)"
   ]
  },
  {
   "cell_type": "code",
   "execution_count": 15,
   "metadata": {},
   "outputs": [
    {
     "data": {
      "text/plain": [
       "[23, 45, 45, 21, 34, 56, 75, 33, 45, 90, 21, 34]"
      ]
     },
     "execution_count": 15,
     "metadata": {},
     "output_type": "execute_result"
    }
   ],
   "source": [
    "task_list"
   ]
  },
  {
   "cell_type": "code",
   "execution_count": 16,
   "metadata": {},
   "outputs": [
    {
     "name": "stdout",
     "output_type": "stream",
     "text": [
      "[21 23 33 34 45 56 75 90]\n"
     ]
    }
   ],
   "source": [
    "'''Find all the unique elements of the array using numpy!!! \n",
    "45, 21 and 34 should not come more than once here!!!'''\n",
    "import numpy as np\n",
    "def sub_task4(func_list):\n",
    "    array = np.array(func_list)\n",
    "    unique_elements = np.unique(array)\n",
    "    print(unique_elements)\n",
    "    \n",
    "sub_task4(task_list)"
   ]
  },
  {
   "cell_type": "code",
   "execution_count": 17,
   "metadata": {},
   "outputs": [],
   "source": [
    "task_dict = {'a':'apple','b':'bulb','c':'cat'}\n",
    "#Don't forget to run this cell"
   ]
  },
  {
   "cell_type": "code",
   "execution_count": 19,
   "metadata": {},
   "outputs": [
    {
     "name": "stdout",
     "output_type": "stream",
     "text": [
      "{'a': 'apple', 'b': 'ball', 'c': 'cat', 'd': 'dog'}\n"
     ]
    }
   ],
   "source": [
    "'''Replace the value of the key b to ball\n",
    "After this add a new element with key d and value dog'''\n",
    "# Write your code in this cell right here!!\n",
    "def sub_task5(func_dict):\n",
    "    func_dict['b'] = 'ball'\n",
    "    func_dict['d'] = 'dog'\n",
    "    return func_dict\n",
    "\n",
    "sub_task5(task_dict)\n",
    "print(task_dict)"
   ]
  },
  {
   "cell_type": "markdown",
   "metadata": {},
   "source": [
    "## Task 2"
   ]
  },
  {
   "cell_type": "code",
   "execution_count": null,
   "metadata": {},
   "outputs": [],
   "source": [
    "class student:\n",
    "    def __init__(self,Name,Age):\n",
    "        self.Name=Name\n",
    "        self.Age=Age\n",
    "        self.grades=[]\n",
    "        self.scores=[]\n",
    "\n",
    "    def get_scores(self,score1, score2, score3):\n",
    "        self.scores.append(score1)\n",
    "        self.scores.append(score2)\n",
    "        self.scores.append(score3)\n",
    "\n",
    "    def get_grade(self):\n",
    "        for i in range(len(self.scores)):\n",
    "            if self.scores[i]>85:\n",
    "                self.grades.append(\"A\")\n",
    "            elif self.scores[i]>70:\n",
    "                self.grades.append(\"B\")\n",
    "            elif self.scores[i]>55:\n",
    "                self.grades.append(\"C\")\n",
    "            else:\n",
    "                self.grades.append(\"D\")\n",
    "        print(self.Name, self.Age, self.grades[0], self.grades[1], self.grades[2])\n",
    "\n",
    "student_list = [['Adam', 16, 84, 70, 31],\n",
    "               ['Andrew', 17, 99, 92, 64],\n",
    "               ['Ian', 16, 85, 70, 55]]\n",
    "students=[]\n",
    "for i in range(len(student_list)):\n",
    "    stud=student(student_list[i][0], student_list[i][1])\n",
    "    students.append(stud)\n",
    "    stud.get_scores(student_list[i][2], student_list[i][3], student_list[i][4])\n",
    "    stud.get_grade()"
   ]
  }
 ],
 "metadata": {
  "kernelspec": {
   "display_name": "Python 3",
   "language": "python",
   "name": "python3"
  },
  "language_info": {
   "codemirror_mode": {
    "name": "ipython",
    "version": 3
   },
   "file_extension": ".py",
   "mimetype": "text/x-python",
   "name": "python",
   "nbconvert_exporter": "python",
   "pygments_lexer": "ipython3",
   "version": "3.7.7"
  }
 },
 "nbformat": 4,
 "nbformat_minor": 4
}
